{
 "cells": [
  {
   "cell_type": "code",
   "execution_count": 1,
   "metadata": {},
   "outputs": [
    {
     "name": "stdout",
     "output_type": "stream",
     "text": [
      "Model: \"vgg16\"\n",
      "_________________________________________________________________\n",
      " Layer (type)                Output Shape              Param #   \n",
      "=================================================================\n",
      " input_1 (InputLayer)        [(None, 224, 224, 3)]     0         \n",
      "                                                                 \n",
      " block1_conv1 (Conv2D)       (None, 224, 224, 64)      1792      \n",
      "                                                                 \n",
      " block1_conv2 (Conv2D)       (None, 224, 224, 64)      36928     \n",
      "                                                                 \n",
      " block1_pool (MaxPooling2D)  (None, 112, 112, 64)      0         \n",
      "                                                                 \n",
      " block2_conv1 (Conv2D)       (None, 112, 112, 128)     73856     \n",
      "                                                                 \n",
      " block2_conv2 (Conv2D)       (None, 112, 112, 128)     147584    \n",
      "                                                                 \n",
      " block2_pool (MaxPooling2D)  (None, 56, 56, 128)       0         \n",
      "                                                                 \n",
      " block3_conv1 (Conv2D)       (None, 56, 56, 256)       295168    \n",
      "                                                                 \n",
      " block3_conv2 (Conv2D)       (None, 56, 56, 256)       590080    \n",
      "                                                                 \n",
      " block3_conv3 (Conv2D)       (None, 56, 56, 256)       590080    \n",
      "                                                                 \n",
      " block3_pool (MaxPooling2D)  (None, 28, 28, 256)       0         \n",
      "                                                                 \n",
      " block4_conv1 (Conv2D)       (None, 28, 28, 512)       1180160   \n",
      "                                                                 \n",
      " block4_conv2 (Conv2D)       (None, 28, 28, 512)       2359808   \n",
      "                                                                 \n",
      " block4_conv3 (Conv2D)       (None, 28, 28, 512)       2359808   \n",
      "                                                                 \n",
      " block4_pool (MaxPooling2D)  (None, 14, 14, 512)       0         \n",
      "                                                                 \n",
      " block5_conv1 (Conv2D)       (None, 14, 14, 512)       2359808   \n",
      "                                                                 \n",
      " block5_conv2 (Conv2D)       (None, 14, 14, 512)       2359808   \n",
      "                                                                 \n",
      " block5_conv3 (Conv2D)       (None, 14, 14, 512)       2359808   \n",
      "                                                                 \n",
      " block5_pool (MaxPooling2D)  (None, 7, 7, 512)         0         \n",
      "                                                                 \n",
      " flatten (Flatten)           (None, 25088)             0         \n",
      "                                                                 \n",
      " fc1 (Dense)                 (None, 4096)              102764544 \n",
      "                                                                 \n",
      " fc2 (Dense)                 (None, 4096)              16781312  \n",
      "                                                                 \n",
      " predictions (Dense)         (None, 1000)              4097000   \n",
      "                                                                 \n",
      "=================================================================\n",
      "Total params: 138,357,544\n",
      "Trainable params: 138,357,544\n",
      "Non-trainable params: 0\n",
      "_________________________________________________________________\n",
      "None\n"
     ]
    }
   ],
   "source": [
    "from keras.applications import VGG16\n",
    "from keras.utils.vis_utils import plot_model\n",
    "\n",
    "vgg16 = VGG16(weights=\"imagenet\")\n",
    "\n",
    "\n",
    "def plot_verbose(model, to_file: str):\n",
    "    plot_model(\n",
    "        model=model,\n",
    "        to_file=to_file,\n",
    "        show_shapes=True, \n",
    "        show_layer_names=True,\n",
    "        show_layer_activations=True,\n",
    "        show_trainable=True,\n",
    "    )\n",
    "\n",
    "plot_verbose(vgg16, \"model_plots/vgg16.png\")\n",
    "\n",
    "print(vgg16.summary())"
   ]
  },
  {
   "cell_type": "code",
   "execution_count": 2,
   "metadata": {},
   "outputs": [],
   "source": [
    "import keras\n",
    "\n",
    "X_l1 = vgg16.get_layer(\"block1_conv2\").output\n",
    "X_l2 = vgg16.get_layer(\"block2_conv2\").output\n",
    "X_l3 = vgg16.get_layer(\"block3_conv3\").output\n",
    "\n",
    "model_l1 = keras.Model(inputs=vgg16.input, outputs=X_l1)\n",
    "model_l2 = keras.Model(inputs=vgg16.input, outputs=X_l2)\n",
    "model_l3 = keras.Model(inputs=vgg16.input, outputs=X_l3)\n",
    "\n",
    "\n",
    "plot_verbose(model_l1, \"model_plots/model_l1.png\")\n",
    "plot_verbose(model_l2, \"model_plots/model_l2.png\")\n",
    "plot_verbose(model_l3, \"model_plots/model_l3.png\")\n",
    "\n",
    "from keras import layers\n",
    "\n",
    "X_l1_resized = layers.AveragePooling2D(pool_size=(2,2))(X_l1)\n",
    "\n",
    "X_l1_double = layers.concatenate([X_l1_resized, X_l1_resized])\n",
    "\n",
    "\n",
    "x = layers.add([X_l1_double, X_l2])\n",
    "\n",
    "m = keras.Model(inputs=vgg16.input, outputs=x)\n",
    "\n",
    "plot_verbose(m, \"weird.png\")"
   ]
  },
  {
   "cell_type": "code",
   "execution_count": 130,
   "metadata": {},
   "outputs": [],
   "source": [
    "import tensorflow as tf\n",
    "import keras\n",
    "from keras import layers\n",
    "\n",
    "class AttentionGlobalContext(layers.Layer):\n",
    "    def __init__(self, **kwargs):\n",
    "        super(AttentionGlobalContext, self).__init__(**kwargs)\n",
    "        self.correlation_matrix = None\n",
    "\n",
    "    def build(self, input_shape):\n",
    "        # input_shape = (batch_size, width, height, channels)\n",
    "        channels = input_shape[-1]\n",
    "        self.correlation_matrix = self.add_weight(\n",
    "            name=\"correlation_matrix\",\n",
    "            shape=(channels, channels),\n",
    "            initializer=\"identity\",  # choose an appropriate initializer\n",
    "            trainable=True,\n",
    "        )\n",
    "\n",
    "    def call(self, inputs):\n",
    "        # Assume inputs is an image with shape = (batch_size, width, height, channels)\n",
    "        batch_size = tf.shape(inputs)[0]\n",
    "        width = tf.shape(inputs)[1]\n",
    "        height = tf.shape(inputs)[2]\n",
    "        channels = tf.shape(inputs)[3]\n",
    "\n",
    "        # Reshape inputs to treat width and height as a single sequence dimension\n",
    "        # inputs shape after reshape: (batch_size, width*height, channels)\n",
    "        inputs = tf.reshape(inputs, (batch_size, width*height, channels))\n",
    "        tf.print('Inputs shape after reshape:', inputs.shape)\n",
    "\n",
    "        # Reshape inputs for broadcasting\n",
    "        # xi and xj shape: (batch_size, width*height, 1, channels) and (batch_size, 1, width*height, channels) respectively\n",
    "        xi = tf.reshape(inputs, (batch_size, width*height, 1, channels))\n",
    "        xj = tf.reshape(inputs, (batch_size, 1, width*height, channels))\n",
    "        tf.print('xi and xj shape:', xi.shape, xj.shape)\n",
    "\n",
    "        # Compute all rij simultaneously using broadcasting\n",
    "        # rij shape: (batch_size, width*height, width*height)\n",
    "        rij = tf.linalg.matvec(tf.linalg.matvec(self.correlation_matrix, xi, transpose_a=True), xj)\n",
    "        rij = tf.squeeze(rij, axis=-1)  # remove last dimension\n",
    "        tf.print('rij shape:', rij.shape)\n",
    "\n",
    "        # Apply softmax to rij to get attention scores\n",
    "        # attention_scores shape: (batch_size, width*height, width*height)\n",
    "        # attention_scores = tf.nn.softmax(rij, axis=-1)\n",
    "        # tf.print('attention_scores shape:', attention_scores.shape)\n",
    "\n",
    "        # tf.print('attention_scores[..., None] shape', attention_scores[..., None].shape)\n",
    "\n",
    "        # Compute global context\n",
    "        # global_context shape before reshaping: (batch_size, width*height, channels)\n",
    "        global_context = tf.reduce_sum(rij[..., None] * xj, axis=1)  # apply attention_scores to each xj and sum\n",
    "\n",
    "        # divide by width*height to make sure the magnitude of global context does not explode\n",
    "        global_context = tf.divide(global_context, tf.cast(width*height, tf.float32))\n",
    "\n",
    "        tf.print('global_context shape before reshaping:', global_context.shape)\n",
    "\n",
    "        # Reshape global context back to original shape\n",
    "        # global_context shape after reshaping: (batch_size, width, height, channels)\n",
    "        global_context = tf.reshape(global_context, (batch_size, width, height, channels))\n",
    "        tf.print('global_context shape after reshaping:', global_context.shape)\n",
    "\n",
    "        return global_context\n",
    "\n",
    "\n"
   ]
  },
  {
   "cell_type": "code",
   "execution_count": 178,
   "metadata": {},
   "outputs": [
    {
     "name": "stdout",
     "output_type": "stream",
     "text": [
      "(None, 56, 56)\n",
      "Inputs shape after reshape: TensorShape([None, 3136, 256])\n",
      "xi and xj shape: TensorShape([None, 3136, 1, 256]) TensorShape([None, 1, 3136, 256])\n",
      "rij shape: TensorShape([None, None, 3136])\n",
      "global_context shape before reshaping: TensorShape([None, 3136, 256])\n",
      "global_context shape after reshaping: TensorShape([None, 56, 56, 256])\n",
      "1/1 [==============================] - 0s 146ms/step\n"
     ]
    },
    {
     "data": {
      "image/png": "[encoded data removed]",
      "text/plain": [
       "<Figure size 640x480 with 1 Axes>"
      ]
     },
     "metadata": {},
     "output_type": "display_data"
    },
    {
     "name": "stdout",
     "output_type": "stream",
     "text": [
      "0.0 1.0\n"
     ]
    }
   ],
   "source": [
    "C_l1 = AttentionGlobalContext()(X_l3)\n",
    "\n",
    "M_l1 = layers.add([C_l1, X_l3])\n",
    "\n",
    "# apply a convolution of shape C x 3 x 3 x 1 where C is the number of channels\n",
    "T_l1 = layers.Conv2D(1, 3, activation='relu', padding='same')(M_l1)\n",
    "\n",
    "# reshape to get a 1D vector of length W*H\n",
    "T_l1 = layers.Reshape((-1,))(T_l1)\n",
    "\n",
    "# normalize to get a probability distribution\n",
    "S_l1 = layers.Activation('softmax')(T_l1)\n",
    "\n",
    "\n",
    "# softmax across the width and height dimensions\n",
    "# S_l1 = layers.Softmax()(T_l1)\n",
    "\n",
    "# # reshape to get back to the original shape\n",
    "S_l1 = layers.Reshape((56, 56))(S_l1)\n",
    "\n",
    "print(S_l1.shape)\n",
    "\n",
    "m = keras.Model(inputs=vgg16.input, outputs=S_l1)\n",
    "\n",
    "img_path = 'images/highway.jpeg'\n",
    "\n",
    "from tensorflow.keras.preprocessing import image\n",
    "import numpy as np\n",
    "from keras.applications.vgg16 import preprocess_input\n",
    "\n",
    "import matplotlib.pyplot as plt\n",
    "\n",
    "img = image.load_img(img_path, target_size=(224, 224))\n",
    "x = image.img_to_array(img)\n",
    "x = np.expand_dims(x, axis=0)\n",
    "x = preprocess_input(x)\n",
    "\n",
    "preds = m.predict(x)\n",
    "\n",
    "plt.imshow(preds[0,:, :])\n",
    "plt.show()\n",
    "\n",
    "# min max\n",
    "print(preds.min(), preds.max())\n"
   ]
  },
  {
   "cell_type": "code",
   "execution_count": 144,
   "metadata": {},
   "outputs": [
    {
     "data": {
      "image/png": "[encoded data removed]",
      "text/plain": [
       "<Figure size 640x480 with 1 Axes>"
      ]
     },
     "metadata": {},
     "output_type": "display_data"
    },
    {
     "name": "stdout",
     "output_type": "stream",
     "text": [
      "[[0. 0. 0.]\n",
      " [0. 0. 0.]\n",
      " [0. 0. 1.]]\n"
     ]
    },
    {
     "data": {
      "image/png": "[encoded data removed]",
      "text/plain": [
       "<Figure size 640x480 with 1 Axes>"
      ]
     },
     "metadata": {},
     "output_type": "display_data"
    }
   ],
   "source": [
    "inp = np.array([[1., 2., 3.], [4., 5., 60000.], [7., 8., 70000.]])\n",
    "plt.imshow(inp)\n",
    "plt.show()\n",
    "\n",
    "layer = layers.Softmax([0, 1])\n",
    "res = layer(inp).numpy()\n",
    "\n",
    "print(res)\n",
    "\n",
    "plt.imshow(res)\n",
    "plt.show()"
   ]
  }
 ],
 "metadata": {
  "kernelspec": {
   "display_name": "base",
   "language": "python",
   "name": "python3"
  },
  "language_info": {
   "codemirror_mode": {
    "name": "ipython",
    "version": 3
   },
   "file_extension": ".py",
   "mimetype": "text/x-python",
   "name": "python",
   "nbconvert_exporter": "python",
   "pygments_lexer": "ipython3",
   "version": "3.10.9"
  },
  "orig_nbformat": 4
 },
 "nbformat": 4,
 "nbformat_minor": 2
}
